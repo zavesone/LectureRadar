{
 "cells": [
  {
   "cell_type": "markdown",
   "metadata": {},
   "source": [
    "# LectureRadar: Source Management System\n",
    "\n",
    "This notebook demonstrates the initial implementation of the source management system for LectureRadar.\n",
    "\n",
    "## Features\n",
    "1. URL Processing and Validation\n",
    "2. Source Type Detection\n",
    "3. Basic Data Structures for Sources"
   ]
  },
  {
   "cell_type": "code",
   "execution_count": null,
   "metadata": {},
   "source": [
    "# Required imports\n",
    "from dataclasses import dataclass\n",
    "from datetime import datetime\n",
    "from typing import Optional, List\n",
    "from urllib.parse import urlparse, parse_qs\n",
    "import requests"
   ]
  },
  {
   "cell_type": "markdown",
   "metadata": {},
   "source": [
    "## Data Structures\n",
    "\n",
    "First, let's define our base data structures for different types of sources."
   ]
  },
  {
   "cell_type": "code",
   "execution_count": null,
   "metadata": {},
   "source": [
    "@dataclass\n",
    "class EventSource:\n",
    "    url: str\n",
    "    platform: str  # 'VK', 'Telegram', 'Website'\n",
    "    source_type: str  # 'Group', 'Channel', 'Page'\n",
    "    update_freq: int = 60  # minutes\n",
    "    last_checked: Optional[datetime] = None\n",
    "    is_active: bool = True\n",
    "\n",
    "@dataclass\n",
    "class VKSource(EventSource):\n",
    "    group_id: Optional[str] = None\n",
    "    access_token: Optional[str] = None\n",
    "\n",
    "@dataclass\n",
    "class TelegramSource(EventSource):\n",
    "    channel_id: Optional[str] = None"
   ]
  },
  {
   "cell_type": "markdown",
   "metadata": {},
   "source": [
    "## URL Processing\n",
    "\n",
    "Let's implement the URL processing system to detect and validate different types of sources."
   ]
  },
  {
   "cell_type": "code",
   "execution_count": null,
   "metadata": {},
   "source": [
    "class URLProcessor:\n",
    "    @staticmethod\n",
    "    def process_url(url: str) -> dict:\n",
    "        \"\"\"Process URL and detect its platform and properties\"\"\"\n",
    "        parsed = urlparse(url)\n",
    "        \n",
    "        # VK URL processing\n",
    "        if \"vk.com\" in parsed.netloc:\n",
    "            path_parts = parsed.path.strip('/').split('/')\n",
    "            group_name = path_parts[0] if path_parts else None\n",
    "            return {\n",
    "                'platform': 'VK',\n",
    "                'source_type': 'Group',\n",
    "                'group_name': group_name,\n",
    "                'url': url\n",
    "            }\n",
    "        \n",
    "        # Telegram URL processing\n",
    "        elif \"t.me\" in parsed.netloc:\n",
    "            path_parts = parsed.path.strip('/').split('/')\n",
    "            channel_name = path_parts[0] if path_parts else None\n",
    "            return {\n",
    "                'platform': 'Telegram',\n",
    "                'source_type': 'Channel',\n",
    "                'channel_name': channel_name,\n",
    "                'url': url\n",
    "            }\n",
    "        \n",
    "        # Generic website processing\n",
    "        else:\n",
    "            return {\n",
    "                'platform': 'Website',\n",
    "                'source_type': 'Page',\n",
    "                'domain': parsed.netloc,\n",
    "                'url': url\n",
    "            }\n",
    "\n",
    "    @staticmethod\n",
    "    def validate_url(url: str) -> bool:\n",
    "        \"\"\"Basic URL validation and accessibility check\"\"\"\n",
    "        try:\n",
    "            response = requests.head(url, timeout=5)\n",
    "            return response.status_code == 200\n",
    "        except:\n",
    "            return False"
   ]
  },
  {
   "cell_type": "markdown",
   "metadata": {},
   "source": [
    "## Source Manager\n",
    "\n",
    "Now let's implement the main source management system."
   ]
  },
  {
   "cell_type": "code",
   "execution_count": null,
   "metadata": {},
   "source": [
    "class SourceManager:\n",
    "    def __init__(self):\n",
    "        self.sources = []\n",
    "        self.url_processor = URLProcessor()\n",
    "    \n",
    "    def add_source(self, url: str) -> Optional[EventSource]:\n",
    "        \"\"\"Add a new source to monitor\"\"\"\n",
    "        # Validate URL\n",
    "        if not self.url_processor.validate_url(url):\n",
    "            print(f\"Error: Unable to access URL: {url}\")\n",
    "            return None\n",
    "        \n",
    "        # Process URL\n",
    "        source_info = self.url_processor.process_url(url)\n",
    "        \n",
    "        # Create appropriate source object\n",
    "        if source_info['platform'] == 'VK':\n",
    "            source = VKSource(\n",
    "                url=url,\n",
    "                platform='VK',\n",
    "                source_type='Group',\n",
    "                group_id=source_info.get('group_name')\n",
    "            )\n",
    "        elif source_info['platform'] == 'Telegram':\n",
    "            source = TelegramSource(\n",
    "                url=url,\n",
    "                platform='Telegram',\n",
    "                source_type='Channel',\n",
    "                channel_id=source_info.get('channel_name')\n",
    "            )\n",
    "        else:\n",
    "            source = EventSource(\n",
    "                url=url,\n",
    "                platform='Website',\n",
    "                source_type='Page'\n",
    "            )\n",
    "        \n",
    "        self.sources.append(source)\n",
    "        return source\n",
    "    \n",
    "    def list_sources(self) -> List[EventSource]:\n",
    "        \"\"\"List all registered sources\"\"\"\n",
    "        return self.sources\n",
    "    \n",
    "    def remove_source(self, url: str) -> bool:\n",
    "        \"\"\"Remove a source by URL\"\"\"\n",
    "        initial_length = len(self.sources)\n",
    "        self.sources = [s for s in self.sources if s.url != url]\n",
    "        return len(self.sources) < initial_length"
   ]
  },
  {
   "cell_type": "markdown",
   "metadata": {},
   "source": [
    "## Testing\n",
    "\n",
    "Let's test our implementation with some example URLs."
   ]
  },
  {
   "cell_type": "code",
   "execution_count": null,
   "metadata": {},
   "source": [
    "# Initialize source manager\n",
    "manager = SourceManager()\n",
    "\n",
    "# Test with different types of URLs\n",
    "test_urls = [\n",
    "    \"https://vk.com/science_msu\",  # VK group\n",
    "    \"https://t.me/scientific_events\",  # Telegram channel\n",
    "    \"https://www.msu.ru/science/\",  # Website\n",
    "]\n",
    "\n",
    "# Add sources\n",
    "for url in test_urls:\n",
    "    source = manager.add_source(url)\n",
    "    if source:\n",
    "        print(f\"Added source: {source}\")\n",
    "\n",
    "# List all sources\n",
    "print(\"\\nAll registered sources:\")\n",
    "for source in manager.list_sources():\n",
    "    print(f\"- {source.platform}: {source.url}\")"
   ]
  }
 ],
 "metadata": {
  "kernelspec": {
   "display_name": "Python 3",
   "language": "python",
   "name": "python3"
  },
  "language_info": {
   "codemirror_mode": {
    "name": "ipython",
    "version": 3
   },
   "file_extension": ".py",
   "mimetype": "text/x-python",
   "name": "python",
   "nbconvert_exporter": "python",
   "pygments_lexer": "ipython3",
   "version": "3.8"
  }
 },
 "nbformat": 4,
 "nbformat_minor": 4
}